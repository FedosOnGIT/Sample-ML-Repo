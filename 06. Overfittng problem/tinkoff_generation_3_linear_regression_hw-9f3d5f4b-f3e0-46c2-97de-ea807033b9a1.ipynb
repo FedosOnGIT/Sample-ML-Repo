{
 "nbformat": 4,
 "nbformat_minor": 0,
 "metadata": {
  "colab": {
   "name": "Tinkoff_Generation_3_linear_regression_HW",
   "provenance": [],
   "collapsed_sections": []
  },
  "kernelspec": {
   "display_name": "Python 3",
   "language": "python",
   "name": "python3"
  },
  "language_info": {
   "codemirror_mode": {
    "name": "ipython",
    "version": 3
   },
   "file_extension": ".py",
   "mimetype": "text/x-python",
   "name": "python",
   "nbconvert_exporter": "python",
   "pygments_lexer": "ipython3",
   "version": "3.7.3"
  }
 },
 "cells": [
  {
   "cell_type": "markdown",
   "metadata": {
    "id": "ymo3txVFu5qB",
    "pycharm": {
     "name": "#%% md\n"
    }
   },
   "source": [
    "### (0 баллов) Считываем данные"
   ]
  },
  {
   "cell_type": "code",
   "metadata": {
    "id": "Yb2QHE2Su5qE",
    "pycharm": {
     "name": "#%%\n"
    }
   },
   "source": [
    "import numpy as np\n",
    "import pandas as pd\n",
    "from matplotlib import pyplot as plt\n",
    "%matplotlib inline"
   ],
   "execution_count": 127,
   "outputs": []
  },
  {
   "cell_type": "code",
   "metadata": {
    "id": "FMxbEARwu5qN",
    "scrolled": true,
    "outputId": "5a47a944-b871-48e7-beda-ea4a7a371c77",
    "pycharm": {
     "name": "#%%\n"
    }
   },
   "source": [
    "from sklearn.datasets import load_boston\n",
    "\n",
    "dataset = load_boston()\n",
    "dataset.keys()"
   ],
   "execution_count": 128,
   "outputs": [
    {
     "name": "stderr",
     "output_type": "stream",
     "text": [
      "C:\\Users\\fedya\\AppData\\Local\\Programs\\Python\\Python39\\lib\\site-packages\\sklearn\\utils\\deprecation.py:87: FutureWarning: Function load_boston is deprecated; `load_boston` is deprecated in 1.0 and will be removed in 1.2.\n",
      "\n",
      "    The Boston housing prices dataset has an ethical problem. You can refer to\n",
      "    the documentation of this function for further details.\n",
      "\n",
      "    The scikit-learn maintainers therefore strongly discourage the use of this\n",
      "    dataset unless the purpose of the code is to study and educate about\n",
      "    ethical issues in data science and machine learning.\n",
      "\n",
      "    In this special case, you can fetch the dataset from the original\n",
      "    source::\n",
      "\n",
      "        import pandas as pd\n",
      "        import numpy as np\n",
      "\n",
      "\n",
      "        data_url = \"http://lib.stat.cmu.edu/datasets/boston\"\n",
      "        raw_df = pd.read_csv(data_url, sep=\"\\s+\", skiprows=22, header=None)\n",
      "        data = np.hstack([raw_df.values[::2, :], raw_df.values[1::2, :2]])\n",
      "        target = raw_df.values[1::2, 2]\n",
      "\n",
      "    Alternative datasets include the California housing dataset (i.e.\n",
      "    :func:`~sklearn.datasets.fetch_california_housing`) and the Ames housing\n",
      "    dataset. You can load the datasets as follows::\n",
      "\n",
      "        from sklearn.datasets import fetch_california_housing\n",
      "        housing = fetch_california_housing()\n",
      "\n",
      "    for the California housing dataset and::\n",
      "\n",
      "        from sklearn.datasets import fetch_openml\n",
      "        housing = fetch_openml(name=\"house_prices\", as_frame=True)\n",
      "\n",
      "    for the Ames housing dataset.\n",
      "    \n",
      "  warnings.warn(msg, category=FutureWarning)\n"
     ]
    },
    {
     "data": {
      "text/plain": "dict_keys(['data', 'target', 'feature_names', 'DESCR', 'filename', 'data_module'])"
     },
     "execution_count": 128,
     "metadata": {},
     "output_type": "execute_result"
    }
   ]
  },
  {
   "cell_type": "markdown",
   "metadata": {
    "id": "TsknjFrGu5qd",
    "pycharm": {
     "name": "#%% md\n"
    }
   },
   "source": [
    "Каждая квартира имеет 13 признаков:"
   ]
  },
  {
   "cell_type": "code",
   "metadata": {
    "id": "7MxiIMnqu5qg",
    "outputId": "e30a18d0-eff2-4f12-ae4f-1ace9dac6faf",
    "pycharm": {
     "name": "#%%\n"
    }
   },
   "source": [
    "X = dataset['data']\n",
    "X[:10]"
   ],
   "execution_count": 129,
   "outputs": [
    {
     "data": {
      "text/plain": "array([[6.3200e-03, 1.8000e+01, 2.3100e+00, 0.0000e+00, 5.3800e-01,\n        6.5750e+00, 6.5200e+01, 4.0900e+00, 1.0000e+00, 2.9600e+02,\n        1.5300e+01, 3.9690e+02, 4.9800e+00],\n       [2.7310e-02, 0.0000e+00, 7.0700e+00, 0.0000e+00, 4.6900e-01,\n        6.4210e+00, 7.8900e+01, 4.9671e+00, 2.0000e+00, 2.4200e+02,\n        1.7800e+01, 3.9690e+02, 9.1400e+00],\n       [2.7290e-02, 0.0000e+00, 7.0700e+00, 0.0000e+00, 4.6900e-01,\n        7.1850e+00, 6.1100e+01, 4.9671e+00, 2.0000e+00, 2.4200e+02,\n        1.7800e+01, 3.9283e+02, 4.0300e+00],\n       [3.2370e-02, 0.0000e+00, 2.1800e+00, 0.0000e+00, 4.5800e-01,\n        6.9980e+00, 4.5800e+01, 6.0622e+00, 3.0000e+00, 2.2200e+02,\n        1.8700e+01, 3.9463e+02, 2.9400e+00],\n       [6.9050e-02, 0.0000e+00, 2.1800e+00, 0.0000e+00, 4.5800e-01,\n        7.1470e+00, 5.4200e+01, 6.0622e+00, 3.0000e+00, 2.2200e+02,\n        1.8700e+01, 3.9690e+02, 5.3300e+00],\n       [2.9850e-02, 0.0000e+00, 2.1800e+00, 0.0000e+00, 4.5800e-01,\n        6.4300e+00, 5.8700e+01, 6.0622e+00, 3.0000e+00, 2.2200e+02,\n        1.8700e+01, 3.9412e+02, 5.2100e+00],\n       [8.8290e-02, 1.2500e+01, 7.8700e+00, 0.0000e+00, 5.2400e-01,\n        6.0120e+00, 6.6600e+01, 5.5605e+00, 5.0000e+00, 3.1100e+02,\n        1.5200e+01, 3.9560e+02, 1.2430e+01],\n       [1.4455e-01, 1.2500e+01, 7.8700e+00, 0.0000e+00, 5.2400e-01,\n        6.1720e+00, 9.6100e+01, 5.9505e+00, 5.0000e+00, 3.1100e+02,\n        1.5200e+01, 3.9690e+02, 1.9150e+01],\n       [2.1124e-01, 1.2500e+01, 7.8700e+00, 0.0000e+00, 5.2400e-01,\n        5.6310e+00, 1.0000e+02, 6.0821e+00, 5.0000e+00, 3.1100e+02,\n        1.5200e+01, 3.8663e+02, 2.9930e+01],\n       [1.7004e-01, 1.2500e+01, 7.8700e+00, 0.0000e+00, 5.2400e-01,\n        6.0040e+00, 8.5900e+01, 6.5921e+00, 5.0000e+00, 3.1100e+02,\n        1.5200e+01, 3.8671e+02, 1.7100e+01]])"
     },
     "execution_count": 129,
     "metadata": {},
     "output_type": "execute_result"
    }
   ]
  },
  {
   "cell_type": "code",
   "metadata": {
    "id": "75Jufw6Ru5qn",
    "outputId": "65d010cc-56c8-4328-a83e-d7f7208abf64",
    "pycharm": {
     "name": "#%%\n"
    }
   },
   "source": [
    "dataset['feature_names']"
   ],
   "execution_count": 130,
   "outputs": [
    {
     "data": {
      "text/plain": "array(['CRIM', 'ZN', 'INDUS', 'CHAS', 'NOX', 'RM', 'AGE', 'DIS', 'RAD',\n       'TAX', 'PTRATIO', 'B', 'LSTAT'], dtype='<U7')"
     },
     "execution_count": 130,
     "metadata": {},
     "output_type": "execute_result"
    }
   ]
  },
  {
   "cell_type": "code",
   "metadata": {
    "id": "LkrWnw3nu5qu",
    "outputId": "486ef43f-f39e-44a7-f6c9-09377ba2e530",
    "pycharm": {
     "name": "#%%\n"
    }
   },
   "source": [
    "print(dataset['DESCR'])"
   ],
   "execution_count": 131,
   "outputs": [
    {
     "name": "stdout",
     "output_type": "stream",
     "text": [
      ".. _boston_dataset:\n",
      "\n",
      "Boston house prices dataset\n",
      "---------------------------\n",
      "\n",
      "**Data Set Characteristics:**  \n",
      "\n",
      "    :Number of Instances: 506 \n",
      "\n",
      "    :Number of Attributes: 13 numeric/categorical predictive. Median Value (attribute 14) is usually the target.\n",
      "\n",
      "    :Attribute Information (in order):\n",
      "        - CRIM     per capita crime rate by town\n",
      "        - ZN       proportion of residential land zoned for lots over 25,000 sq.ft.\n",
      "        - INDUS    proportion of non-retail business acres per town\n",
      "        - CHAS     Charles River dummy variable (= 1 if tract bounds river; 0 otherwise)\n",
      "        - NOX      nitric oxides concentration (parts per 10 million)\n",
      "        - RM       average number of rooms per dwelling\n",
      "        - AGE      proportion of owner-occupied units built prior to 1940\n",
      "        - DIS      weighted distances to five Boston employment centres\n",
      "        - RAD      index of accessibility to radial highways\n",
      "        - TAX      full-value property-tax rate per $10,000\n",
      "        - PTRATIO  pupil-teacher ratio by town\n",
      "        - B        1000(Bk - 0.63)^2 where Bk is the proportion of black people by town\n",
      "        - LSTAT    % lower status of the population\n",
      "        - MEDV     Median value of owner-occupied homes in $1000's\n",
      "\n",
      "    :Missing Attribute Values: None\n",
      "\n",
      "    :Creator: Harrison, D. and Rubinfeld, D.L.\n",
      "\n",
      "This is a copy of UCI ML housing dataset.\n",
      "https://archive.ics.uci.edu/ml/machine-learning-databases/housing/\n",
      "\n",
      "\n",
      "This dataset was taken from the StatLib library which is maintained at Carnegie Mellon University.\n",
      "\n",
      "The Boston house-price data of Harrison, D. and Rubinfeld, D.L. 'Hedonic\n",
      "prices and the demand for clean air', J. Environ. Economics & Management,\n",
      "vol.5, 81-102, 1978.   Used in Belsley, Kuh & Welsch, 'Regression diagnostics\n",
      "...', Wiley, 1980.   N.B. Various transformations are used in the table on\n",
      "pages 244-261 of the latter.\n",
      "\n",
      "The Boston house-price data has been used in many machine learning papers that address regression\n",
      "problems.   \n",
      "     \n",
      ".. topic:: References\n",
      "\n",
      "   - Belsley, Kuh & Welsch, 'Regression diagnostics: Identifying Influential Data and Sources of Collinearity', Wiley, 1980. 244-261.\n",
      "   - Quinlan,R. (1993). Combining Instance-Based and Model-Based Learning. In Proceedings on the Tenth International Conference of Machine Learning, 236-243, University of Massachusetts, Amherst. Morgan Kaufmann.\n",
      "\n"
     ]
    }
   ]
  },
  {
   "cell_type": "markdown",
   "metadata": {
    "id": "Jk3U9ixpu5q1",
    "pycharm": {
     "name": "#%% md\n"
    }
   },
   "source": [
    "Хочется научиться предсказывать функцию цены квартиры. Предположительно, она зависит как-то от этих признаков."
   ]
  },
  {
   "cell_type": "code",
   "metadata": {
    "id": "IiRlvgpRu5q3",
    "outputId": "4623f275-7a0a-41a2-a415-9214bee3cc05",
    "pycharm": {
     "name": "#%%\n"
    }
   },
   "source": [
    "y = dataset['target']\n",
    "y[:10]"
   ],
   "execution_count": 132,
   "outputs": [
    {
     "data": {
      "text/plain": "array([24. , 21.6, 34.7, 33.4, 36.2, 28.7, 22.9, 27.1, 16.5, 18.9])"
     },
     "execution_count": 132,
     "metadata": {},
     "output_type": "execute_result"
    }
   ]
  },
  {
   "cell_type": "markdown",
   "metadata": {
    "id": "ZOa7_r4Tu5q_",
    "pycharm": {
     "name": "#%% md\n"
    }
   },
   "source": [
    "### (1 балл) Разделите данные на тренировочную и тестовую части.\n",
    "\n",
    "Тестовая часть должна составлять 10% выборки.\n"
   ]
  },
  {
   "cell_type": "code",
   "metadata": {
    "id": "mgUs1nPIu5rA",
    "pycharm": {
     "name": "#%%\n"
    }
   },
   "source": [
    "from sklearn.model_selection import train_test_split\n",
    "\n",
    "x_train, x_test, y_train, y_test = train_test_split(X, y, test_size=0.1, shuffle=False)\n",
    "x_train.shape"
   ],
   "execution_count": 149,
   "outputs": [
    {
     "data": {
      "text/plain": "(455, 13)"
     },
     "execution_count": 149,
     "metadata": {},
     "output_type": "execute_result"
    }
   ]
  },
  {
   "cell_type": "markdown",
   "metadata": {
    "id": "krV_juMIu5rE",
    "pycharm": {
     "name": "#%% md\n"
    }
   },
   "source": [
    "### (1 балл) Обучение и применение модели\n",
    "Обучите модель линейной регрессии на тренировочной части и предскажите результаты на тестовой части.\n",
    "\n"
   ]
  },
  {
   "cell_type": "code",
   "metadata": {
    "id": "2Jm32qLMu5rG",
    "pycharm": {
     "name": "#%%\n"
    }
   },
   "source": [
    "from sklearn.linear_model import LinearRegression\n",
    "from sklearn.metrics import mean_squared_error\n",
    "\n",
    "regression = LinearRegression().fit(x_train, y_train)"
   ],
   "execution_count": 150,
   "outputs": []
  },
  {
   "cell_type": "code",
   "metadata": {
    "id": "Fy-BCb2qu5rL",
    "pycharm": {
     "name": "#%%\n"
    }
   },
   "source": [
    "y_prediction = regression.predict(x_test)\n",
    "mean_squared_error(y_test, y_prediction)"
   ],
   "execution_count": 151,
   "outputs": [
    {
     "data": {
      "text/plain": "10.806201381078065"
     },
     "execution_count": 151,
     "metadata": {},
     "output_type": "execute_result"
    }
   ]
  },
  {
   "cell_type": "markdown",
   "metadata": {
    "id": "XDeX09VWu5rQ",
    "pycharm": {
     "name": "#%% md\n"
    }
   },
   "source": [
    "### (2 балл) Валидация результата\n",
    "\n",
    "Напишите свою функцию MSE, убедитесь, что она совпадает с реализацией из sklearn и посчитайте своей результат на тестовой части."
   ]
  },
  {
   "cell_type": "code",
   "metadata": {
    "id": "HAES_JkYu5rR",
    "pycharm": {
     "name": "#%%\n"
    }
   },
   "source": [
    "def MSE(y_real, y_pred):\n",
    "    return np.sum((y_real - y_pred) ** 2) / y_real.size"
   ],
   "execution_count": 152,
   "outputs": []
  },
  {
   "cell_type": "code",
   "metadata": {
    "id": "pFMWm9pYu5rV",
    "pycharm": {
     "name": "#%%\n"
    }
   },
   "source": [
    "print(f'My MSE {MSE(y_test, y_prediction)}')\n",
    "print(f'Not my MSE {mean_squared_error(y_test, y_prediction)}')"
   ],
   "execution_count": 153,
   "outputs": [
    {
     "name": "stdout",
     "output_type": "stream",
     "text": [
      "My MSE 10.806201381078065\n",
      "Not my MSE 10.806201381078065\n"
     ]
    }
   ]
  },
  {
   "cell_type": "markdown",
   "metadata": {
    "id": "eYQjX7TJu5rZ",
    "pycharm": {
     "name": "#%% md\n"
    }
   },
   "source": [
    "Насколько хорошо вы предсказали цену? Сравните с наивным алгоритмом (предсказать среднюю цену на тренировочной части вне зависимости от признаков)."
   ]
  },
  {
   "cell_type": "code",
   "metadata": {
    "id": "7tc7bt-ju5ra",
    "pycharm": {
     "name": "#%%\n"
    }
   },
   "source": [
    "mean_y = np.mean(y_train)\n",
    "y_naive = np.repeat(mean_y, y_test.size)\n",
    "y_naive"
   ],
   "execution_count": 154,
   "outputs": [
    {
     "data": {
      "text/plain": "array([22.96043956, 22.96043956, 22.96043956, 22.96043956, 22.96043956,\n       22.96043956, 22.96043956, 22.96043956, 22.96043956, 22.96043956,\n       22.96043956, 22.96043956, 22.96043956, 22.96043956, 22.96043956,\n       22.96043956, 22.96043956, 22.96043956, 22.96043956, 22.96043956,\n       22.96043956, 22.96043956, 22.96043956, 22.96043956, 22.96043956,\n       22.96043956, 22.96043956, 22.96043956, 22.96043956, 22.96043956,\n       22.96043956, 22.96043956, 22.96043956, 22.96043956, 22.96043956,\n       22.96043956, 22.96043956, 22.96043956, 22.96043956, 22.96043956,\n       22.96043956, 22.96043956, 22.96043956, 22.96043956, 22.96043956,\n       22.96043956, 22.96043956, 22.96043956, 22.96043956, 22.96043956,\n       22.96043956])"
     },
     "execution_count": 154,
     "metadata": {},
     "output_type": "execute_result"
    }
   ]
  },
  {
   "cell_type": "code",
   "metadata": {
    "id": "aWk1sHAIu5rf",
    "pycharm": {
     "name": "#%%\n"
    }
   },
   "source": [
    "print(f'MSE for Linear {MSE(y_test, y_prediction)}')\n",
    "print(f'MSE for naive {MSE(y_test, y_naive)}')"
   ],
   "execution_count": 155,
   "outputs": [
    {
     "name": "stdout",
     "output_type": "stream",
     "text": [
      "MSE for Linear 10.806201381078065\n",
      "MSE for naive 36.92078071465273\n"
     ]
    }
   ]
  },
  {
   "cell_type": "markdown",
   "metadata": {
    "id": "V0IP6MObu5rj",
    "pycharm": {
     "name": "#%% md\n"
    }
   },
   "source": [
    "### (2 балла) Улучшите результат.\n",
    "\n",
    "Возможно, происходит переобучение, попробуйте применить регуляризацию, чтобы улучшить результат (то есть используйте Ridge вместо LinearRegression).\n",
    "\n",
    "Нарисуйте график зависимости MSE от коэффициента регуляризации."
   ]
  },
  {
   "cell_type": "code",
   "metadata": {
    "id": "j6_FJvpWu5rk",
    "pycharm": {
     "name": "#%%\n"
    }
   },
   "source": [
    "from sklearn.linear_model import Ridge, Lasso\n",
    "\n",
    "lambdas = np.arange(start=0.1, stop=100, step=0.1)\n",
    "\n",
    "ridge_errors = []\n",
    "\n",
    "min_error_ridge = np.inf\n",
    "optimal_lambda_ridge = -1\n",
    "\n",
    "for val in lambdas:\n",
    "    ridge = Ridge(alpha=val).fit(x_train, y_train)\n",
    "    y_prediction_ridge = ridge.predict(x_test)\n",
    "    mistake_ridge = MSE(y_test, y_prediction_ridge)\n",
    "    ridge_errors.append(mistake_ridge)\n",
    "    if mistake_ridge < min_error_ridge:\n",
    "        min_error_ridge = mistake_ridge\n",
    "        optimal_lambda_ridge = val\n",
    "\n",
    "\n",
    "\n",
    "print(f'Лучшая лямбда для ridge = {optimal_lambda_ridge} с ошибкой {min_error_ridge}')\n",
    "plt.plot(lambdas, ridge_errors)\n",
    "plt.xlabel('Лямбда')\n",
    "plt.ylabel('MSE')\n",
    "plt.title('Ridge')\n",
    "plt.show()"
   ],
   "execution_count": 159,
   "outputs": [
    {
     "name": "stdout",
     "output_type": "stream",
     "text": [
      "Лучшая лямбда для ridge = 0.1 с ошибкой 10.845350120504007\n"
     ]
    },
    {
     "data": {
      "text/plain": "<Figure size 432x288 with 1 Axes>",
      "image/png": "[encoded data removed]"
     },
     "metadata": {
      "needs_background": "light"
     },
     "output_type": "display_data"
    }
   ]
  },
  {
   "cell_type": "code",
   "execution_count": 160,
   "outputs": [
    {
     "name": "stdout",
     "output_type": "stream",
     "text": [
      "Лучшая лямбда для lasso = 11.4 с ошибкой 12.216714144689691\n"
     ]
    },
    {
     "data": {
      "text/plain": "<Figure size 432x288 with 1 Axes>",
      "image/png": "[encoded data removed]"
     },
     "metadata": {
      "needs_background": "light"
     },
     "output_type": "display_data"
    }
   ],
   "source": [
    "lasso_errors = []\n",
    "min_error_lasso = np.inf\n",
    "optimal_lambda_lasso = -1\n",
    "\n",
    "for val in lambdas:\n",
    "    lasso = Lasso(alpha=val).fit(x_train, y_train)\n",
    "    y_prediction_lasso = lasso.predict(x_test)\n",
    "    mistake_lasso = MSE(y_test, y_prediction_lasso)\n",
    "    lasso_errors.append(mistake_lasso)\n",
    "    if mistake_lasso < min_error_lasso:\n",
    "        min_error_lasso = mistake_lasso\n",
    "        optimal_lambda_lasso = val\n",
    "\n",
    "\n",
    "print(f'Лучшая лямбда для lasso = {optimal_lambda_lasso} с ошибкой {min_error_lasso}')\n",
    "plt.plot(lambdas, lasso_errors)\n",
    "plt.xlabel('Лямбда')\n",
    "plt.ylabel('MSE')\n",
    "plt.title('Lasso')\n",
    "plt.show()"
   ],
   "metadata": {
    "collapsed": false,
    "pycharm": {
     "name": "#%%\n"
    }
   }
  },
  {
   "cell_type": "markdown",
   "metadata": {
    "id": "EXvkpimau5rn",
    "pycharm": {
     "name": "#%% md\n"
    }
   },
   "source": [
    "Помогает ли регуляризация? Какой коэффициент регуляризации надо выбрать, чтобы ошибка была минимальной? Чему при этом равна ошибка? Напишите выводы о проведенных экспериментах"
   ]
  },
  {
   "cell_type": "markdown",
   "source": [
    "Как можно видеть L2 регуляризация только ухудшила показатель ошибки, а L1 наоборот улучшила при $\\alpha=11.4$. Это может быть связано с тем, что сами признаки могут быть между собой линейно независимы, но какие-то из них являются лишними. Давайте узнаем какие."
   ],
   "metadata": {
    "collapsed": false,
    "pycharm": {
     "name": "#%% md\n"
    }
   }
  },
  {
   "cell_type": "code",
   "metadata": {
    "id": "EkiNXk1Qu5rp",
    "pycharm": {
     "name": "#%%\n"
    }
   },
   "source": [
    "lasso = Lasso(alpha=11.4).fit(x_train, y_train)\n",
    "for name, coef in zip(dataset['feature_names'], lasso.coef_):\n",
    "    print(f'Коэффициент для {name} = {coef}')"
   ],
   "execution_count": 161,
   "outputs": [
    {
     "name": "stdout",
     "output_type": "stream",
     "text": [
      "Коэффициент для CRIM = -0.0\n",
      "Коэффициент для ZN = 0.024057129194628248\n",
      "Коэффициент для INDUS = -0.0\n",
      "Коэффициент для CHAS = 0.0\n",
      "Коэффициент для NOX = 0.0\n",
      "Коэффициент для RM = 0.0\n",
      "Коэффициент для AGE = 0.0\n",
      "Коэффициент для DIS = -0.0\n",
      "Коэффициент для RAD = 0.0\n",
      "Коэффициент для TAX = -0.010285717999100935\n",
      "Коэффициент для PTRATIO = -0.0\n",
      "Коэффициент для B = 0.00741483051073628\n",
      "Коэффициент для LSTAT = -0.5520250643896685\n"
     ]
    }
   ]
  },
  {
   "cell_type": "markdown",
   "source": [
    "Довольно интересно, что регуляризация решила убрать из признаков уровень преступности и расстояние до центров занятости."
   ],
   "metadata": {
    "collapsed": false,
    "pycharm": {
     "name": "#%% md\n"
    }
   }
  }
 ]
}